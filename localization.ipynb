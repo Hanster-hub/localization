def localization_results(amcl_data,uwb_data,m1,tower,envi):
    """"
    Input:
    1. amcl data
    2. uwb_data
    3. WLS model
    4. Define known uwb positions
    5. Give a Plot name
    """
    
    #CDF Plot
    def cdf_plot2(d1,d2,plot_name,p,p2,colour):
        """"
        d1 is NWLS error data
        d2 is Approach error data
        """
        # normal distribution
        data1 = d1
        data2 = d2

        # getting data of the histogram
        count1, bins_count1 = np.histogram(data1, bins=10)
        count2, bins_count2 = np.histogram(data2, bins=10)

        # finding the PDF of the histogram using count values
        pdf1 = count1 / sum(count1)
        pdf2 = count2 / sum(count2)

        # using numpy np.cumsum to calculate the CDF
        # We can also find using the PDF values by looping and adding
        cdf1 = np.cumsum(pdf1)
        cdf2 = np.cumsum(pdf2)
        
        fig, ax = plt.subplots(figsize=(15,15))
        ax.plot(bins_count1[1:], cdf1, color="orange", label="NWLS")
        ax.plot(bins_count2[1:], cdf2, color=colour, label=p2)
        ax.legend(loc='lower right',fontsize=30)
        ax.set_xlabel('Error (m)',fontsize=40)
        ax.set_ylabel('Probability of LOS',fontsize=40)
        plt.xticks(fontsize=25)
        plt.yticks(fontsize=25)
        ax.set_title(envi+" "+p,fontsize=40,fontweight="bold")
    
        plt.savefig(envi+" "+plot_name,format='pdf')
    
    #Function to get unique ID's from UWB Data
    def unique(list1):
        global unique_list 
        # initialize a null list
        unique_list = []
     
        # traverse for all elements
        for x in list1:
            # check if exists in unique_list or not
            if x not in unique_list:
                unique_list.append(x)
        unique_list.sort()
    
    #Return a list of unique ID sorted
    unique(uwb_data['id'])
    
    #Get the list of detected anchors
    considered_index = []
    current_id = 0
    prev_id = -1
    temp_id = []
    for i in range(len(uwb_data)):

        current_id = uwb_data['id'][i]
        if i == len(uwb_data)-1:
            for j in range(len(unique_list)):
                if current_id==unique_list[j]:
                    temp_id.append(j)
                    prev_id = current_id
                else:
                    continue
            considered_index.append(temp_id)

        elif current_id > prev_id:
            for j in range(len(unique_list)):
                if current_id==unique_list[j]:
                    temp_id.append(j)
                    prev_id = current_id
                else:
                    continue
        else:
            considered_index.append(temp_id)
            temp_id = []
            for j in range(len(unique_list)):
                if current_id==unique_list[j]:
                    temp_id.append(j)
                    prev_id = current_id
                else:
                    continue
    
    #Get the probability predictions and beta predictions from our two NN models
    def save_proba(x,m):
        """
        x is the uwb file
        m is name of model
        """
    
        global model_proba
        global model_p
        uwb_data = x
        X = x.drop(['id'],axis=1)
        X= tf.cast(tf.constant(X), dtype=tf.float32)

        model_p = m.predict(X)
        
    uwb_data_nd = uwb_data.drop(['dis'],axis=1)

    save_proba(uwb_data_nd,m1)
    probabilities=model_p
    
    
    uwb_data['probabilities'] = probabilities

    new_x_amcl = []
    new_y_amcl = []
    
    #All positions from ground truth
    for i in range(len(amcl_data)):
        x = amcl_data['x'][i]
        y = amcl_data['y'][i]

        new_x_amcl.append(x)
        new_y_amcl.append(y)
    
    #Get the distance, proba and tower arrays based on detected anchors
    new_distance_array = []
    probabilities_array = []
    new_towers = []
    
    #Distance, proba 
    counter = 0
    for i in range(len(considered_index)):
        temp_dis = []
        temp_probabilities = []

        len_idx = len(considered_index[i])
        for j in range(len_idx):
            temp_probabilities.append(uwb_data['probabilities'][counter])
            temp_dis.append(uwb_data['dis'][counter])
            counter = counter+1
            
        new_distance_array.append(temp_dis)
        probabilities_array.append(temp_probabilities)
        
    #Tower Arrays
    for i in range(len(considered_index)):
    
        c_idx = considered_index[i]
        c_towers = []
    
        for j in range(len(c_idx)):
        
            idx = c_idx[j]
        
            c_towers.append(tower[idx])
        
        new_towers.append(c_towers)
    

    estimated_x0 = []
    estimated_y0 = []
    error_in_m0 = []
    
    
    estimated_x4 = []
    estimated_y4 = []
    error_in_m4 = []
    
    #Some initial values for Least Squares
    x_init0 = [0.0,0.0]
    x_init4 = [0.0,0.0]
    
    
    for i in range(len(new_distance_array)):
        #Initial Values
        d=[0.0,0.0,0.0,0.0,0.0,0.0,0.0,0.0,0.0]
        t=np.array([[0.0,0.0],[0.0,0.0],[0.0,0.0],[0.0,0.0],[0.0,0.0],[0.0,0.0],[0.0,0.0],[0.0,0.0],[0.0,0.0]])
        p=[0.0,0.0,0.0,0.0,0.0,0.0,0.0,0.0,0.0]
        r=[0.0,0.0,0.0,0.0,0.0,0.0,0.0,0.0,0.0]
        
        #Fill in all values
        tx = np.array([new_x_amcl[i],new_y_amcl[i]])
        towers = new_towers[i]
        
        p_array = probabilities_array[i]
        p_array = np.array(p_array)
    
        distances = new_distance_array[i]
        distances = np.array(distances)
        
        #Perform Least squares NWLS, WLS and Optimal Beta LS
        for j in range(len(distances)):
            d[j]= distances[j]
            t[j]= towers[j]
            p[j] = p_array[j]
            r[j]=1.0

        
            
        """Non-Weighted Least Square"""
        def cost_fn(x):
            """ x is 2 element array of x, y of the transmitter"""
            return (
                r[0]*(((d[0])-abs(np.sqrt(((x[0]-t[0][0])**2)+((x[1]-t[0][1])**2)+((0.59)**2))))**2)+
                r[1]*(((d[1])-abs(np.sqrt(((x[0]-t[1][0])**2)+((x[1]-t[1][1])**2)+((0.59)**2))))**2)+
                r[2]*(((d[2])-abs(np.sqrt(((x[0]-t[2][0])**2)+((x[1]-t[2][1])**2)+((0.59)**2))))**2)+
                r[3]*(((d[3])-abs(np.sqrt(((x[0]-t[3][0])**2)+((x[1]-t[3][1])**2)+((0.59)**2))))**2)+
                r[4]*(((d[4])-abs(np.sqrt(((x[0]-t[4][0])**2)+((x[1]-t[4][1])**2)+((0.59)**2))))**2)+
                r[5]*(((d[5])-abs(np.sqrt(((x[0]-t[5][0])**2)+((x[1]-t[5][1])**2)+((0.59)**2))))**2)+
                r[6]*(((d[6])-abs(np.sqrt(((x[0]-t[6][0])**2)+((x[1]-t[6][1])**2)+((0.59)**2))))**2)+
                r[7]*(((d[7])-abs(np.sqrt(((x[0]-t[7][0])**2)+((x[1]-t[7][1])**2)+((0.59)**2))))**2)+
                r[8]*(((d[8])-abs(np.sqrt(((x[0]-t[8][0])**2)+((x[1]-t[8][1])**2)+((0.59)**2))))**2)
                )
        
        """Weighted Least Square"""
        def weighted_cost_fn(x):
            """ x is 2 element array of x, y of the transmitter"""
            return (
                r[0]*p[0]*(((d[0])-abs(np.sqrt(((x[0]-t[0][0])**2)+((x[1]-t[0][1])**2)+((0.59)**2))))**2)+
                r[1]*p[1]*(((d[1])-abs(np.sqrt(((x[0]-t[1][0])**2)+((x[1]-t[1][1])**2)+((0.59)**2))))**2)+
                r[2]*p[2]*(((d[2])-abs(np.sqrt(((x[0]-t[2][0])**2)+((x[1]-t[2][1])**2)+((0.59)**2))))**2)+
                r[3]*p[3]*(((d[3])-abs(np.sqrt(((x[0]-t[3][0])**2)+((x[1]-t[3][1])**2)+((0.59)**2))))**2)+
                r[4]*p[4]*(((d[4])-abs(np.sqrt(((x[0]-t[4][0])**2)+((x[1]-t[4][1])**2)+((0.59)**2))))**2)+
                r[5]*p[5]*(((d[5])-abs(np.sqrt(((x[0]-t[5][0])**2)+((x[1]-t[5][1])**2)+((0.59)**2))))**2)+
                r[6]*p[6]*(((d[6])-abs(np.sqrt(((x[0]-t[6][0])**2)+((x[1]-t[6][1])**2)+((0.59)**2))))**2)+
                r[7]*p[7]*(((d[7])-abs(np.sqrt(((x[0]-t[7][0])**2)+((x[1]-t[7][1])**2)+((0.59)**2))))**2)+
                r[8]*p[8]*(((d[8])-abs(np.sqrt(((x[0]-t[8][0])**2)+((x[1]-t[8][1])**2)+((0.59)**2))))**2)
                )
        
        
        start_time0 = time.time()
        res = least_squares(cost_fn, x_init0,method='trf',loss='huber')
        estimated_x0.append(res.x[0])
        estimated_y0.append(res.x[1])
        error_in_m0.append(np.linalg.norm(tx-res.x))
        x_init0 = res.x
        end_time0 = time.time()
        execution_time0 = (end_time0-start_time0)*1000
        total_time0 = total_time0+execution_time0
        
        start_time4 = time.time()
        res4 = least_squares(weighted_cost_fn, x_init4,method='trf',loss='huber')
        estimated_x4.append(res4.x[0])
        estimated_y4.append(res4.x[1])
        error_in_m4.append(np.linalg.norm(tx-res4.x))
        x_init4 = res4.x
        end_time4 = time.time()
        execution_time4 = (end_time4-start_time4)*1000
        total_time4 = total_time4+execution_time4


            
    mean0 = np.mean(error_in_m0)
    median0 = np.median(error_in_m0)
    standard_d0 = np.std(error_in_m0)
    
    
    mean4 = np.mean(error_in_m4)
    median4 = np.median(error_in_m4)
    standard_d4 = np.std(error_in_m4)
    
    im0 = "Nil"
    im4 = ((mean0-mean4)/mean0)*100

    om = [mean0,mean4,mean2,mean3]
    ome = [median0,median4,median2,median3]
    osd = [standard_d0,standard_d4,standard_d2,standard_d3]
    otd = [len(estimated_x0),len(estimated_x4)]
    im = [im0,im4]
    ts = tower

    print(" ")
    print("---------------------------------------------------------------------------- ")
    print("Method: NWLS")
    print("Computational Time (ms): " + str(total_time0))
    print("Mean: " + str(mean0))
    print("Median: " + str(median0))
    print("Standard Deviation: " + str(standard_d0))
    print("Total data considered: " + str(len(estimated_x0)))

                           
    print(" ")
    print("---------------------------------------------------------------------------- ")
    print("Method: WLS")
    print("Computational Time (ms): " + str(total_time4))
    print("Mean: " + str(mean4))
    print("Median: " + str(median4))
    print("Standard Deviation: " + str(standard_d4))
    print("Total data considered: " + str(len(estimated_x4)))
    

     # Plot GT NWLS and WLS results
    fig1, ax1 = plt.subplots(figsize=(15,15))
    ax1.plot(new_x_amcl,new_y_amcl,'x',color='red',label='AMCL Ground Truth')
    ax1.plot(estimated_x0,estimated_y0,'D',color='orange',label='NWLS Position')
    ax1.plot(estimated_x4,estimated_y4,'^',color='green',label='WLS Position')
    ax1.legend(loc='lower right',fontsize=30)
    ax1.set_xlabel('x (m)',fontsize=40)
    ax1.set_ylabel('y (m)',fontsize=40)
    plt.xticks(fontsize=25)
    plt.yticks(fontsize=25)
    ax1.set_title(envi+" "+"NWLS vs WLS",fontsize=40,fontweight="bold")
    
    plt.savefig(envi+" "+"WLS.pdf",format='pdf')
    

    
    #Plot our CDF as Well
    cdf_plot2(error_in_m0,error_in_m4,envi+" "+"WLS CDF"+".pdf","WLS CDF","WLS","green")
    

    result_table = pd.DataFrame()

    result_table['Mean Error']=om
    result_table['Median Error']=ome
    result_table['Standard Deviation of Error']=osd
    result_table['Total Data']=otd
    
    result_table['Improvement (%)']=im
    result_table=result_table.rename(index={0: "NWLS", 1: "WLS"})
    print(" ")
    new_uwb = uwb_data
